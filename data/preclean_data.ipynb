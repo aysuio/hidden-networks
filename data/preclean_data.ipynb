{
 "cells": [
  {
   "cell_type": "code",
   "execution_count": 1,
   "metadata": {},
   "outputs": [],
   "source": [
    "import torch\n",
    "import torchvision\n",
    "import numpy as np\n"
   ]
  },
  {
   "cell_type": "code",
   "execution_count": 71,
   "metadata": {},
   "outputs": [
    {
     "name": "stdout",
     "output_type": "stream",
     "text": [
      "Files already downloaded and verified\n"
     ]
    }
   ],
   "source": [
    "# Load CIFAR10\n",
    "dataset = torchvision.datasets.CIFAR10(\n",
    "    root='./',\n",
    "    transform=torchvision.transforms.ToTensor(),\n",
    "    download=True)"
   ]
  },
  {
   "cell_type": "code",
   "execution_count": 72,
   "metadata": {},
   "outputs": [
    {
     "name": "stdout",
     "output_type": "stream",
     "text": [
      "[5000 5000 5000 5000 5000 5000 5000 5000 5000 5000]\n",
      "(50000,)\n",
      "(50000, 32, 32, 3)\n"
     ]
    }
   ],
   "source": [
    "# Get all training targets and count the number of class instances\n",
    "targets = np.array(dataset.targets) # 长度为10000的list，对应包含data中每一张图片的label\n",
    "classes, class_counts = np.unique(targets, return_counts=True)\n",
    "nb_classes = len(classes)\n",
    "print(class_counts)\n",
    "print(targets.shape)\n",
    "print(dataset.data.shape)"
   ]
  },
  {
   "cell_type": "code",
   "execution_count": 73,
   "metadata": {},
   "outputs": [],
   "source": [
    "imbal_size = 500\n",
    "original_size = 5000\n",
    "# Create artificial imbalanced class counts\n",
    "imbal_class_counts = [imbal_size, original_size] * 5\n",
    "# Get class indices\n",
    "class_indices = [np.where(targets == i)[0] for i in range(nb_classes)]"
   ]
  },
  {
   "cell_type": "code",
   "execution_count": 74,
   "metadata": {},
   "outputs": [
    {
     "data": {
      "text/plain": [
       "[array([   29,    30,    35, ..., 49941, 49992, 49994], dtype=int64),\n",
       " array([    4,     5,    32, ..., 49993, 49998, 49999], dtype=int64),\n",
       " array([    6,    13,    18, ..., 49987, 49991, 49995], dtype=int64),\n",
       " array([    9,    17,    21, ..., 49979, 49982, 49983], dtype=int64),\n",
       " array([    3,    10,    20, ..., 49981, 49984, 49990], dtype=int64),\n",
       " array([   27,    40,    51, ..., 49964, 49980, 49988], dtype=int64),\n",
       " array([    0,    19,    22, ..., 49962, 49966, 49996], dtype=int64),\n",
       " array([    7,    11,    12, ..., 49965, 49978, 49986], dtype=int64),\n",
       " array([    8,    62,    69, ..., 49968, 49976, 49985], dtype=int64),\n",
       " array([    1,     2,    14, ..., 49963, 49971, 49997], dtype=int64)]"
      ]
     },
     "execution_count": 74,
     "metadata": {},
     "output_type": "execute_result"
    }
   ],
   "source": [
    "class_indices"
   ]
  },
  {
   "cell_type": "code",
   "execution_count": 75,
   "metadata": {},
   "outputs": [],
   "source": [
    "# Get imbalanced number of instances\n",
    "imbal_class_indices = [class_idx[:class_count] for class_idx, class_count in zip(class_indices, imbal_class_counts)]\n",
    "imbal_class_indices = np.hstack(imbal_class_indices)    # https://stackoverflow.com/questions/57047417/numpy-hstack-description"
   ]
  },
  {
   "cell_type": "code",
   "execution_count": 76,
   "metadata": {},
   "outputs": [
    {
     "data": {
      "text/plain": [
       "array([   29,    30,    35, ..., 49963, 49971, 49997], dtype=int64)"
      ]
     },
     "execution_count": 76,
     "metadata": {},
     "output_type": "execute_result"
    }
   ],
   "source": [
    "imbal_class_indices"
   ]
  },
  {
   "cell_type": "code",
   "execution_count": 77,
   "metadata": {},
   "outputs": [],
   "source": [
    "# Set target and data to dataset\n",
    "dataset.targets = targets[imbal_class_indices]\n",
    "dataset.data = dataset.data[imbal_class_indices]\n",
    "\n",
    "assert len(dataset.targets) == len(dataset.data)"
   ]
  },
  {
   "cell_type": "code",
   "execution_count": 79,
   "metadata": {},
   "outputs": [
    {
     "data": {
      "text/plain": [
       "(27500,)"
      ]
     },
     "execution_count": 79,
     "metadata": {},
     "output_type": "execute_result"
    }
   ],
   "source": [
    "dataset.targets.shape"
   ]
  },
  {
   "cell_type": "code",
   "execution_count": 80,
   "metadata": {},
   "outputs": [
    {
     "data": {
      "text/plain": [
       "(27500, 32, 32, 3)"
      ]
     },
     "execution_count": 80,
     "metadata": {},
     "output_type": "execute_result"
    }
   ],
   "source": [
    "dataset.data.shape"
   ]
  },
  {
   "cell_type": "code",
   "execution_count": null,
   "metadata": {},
   "outputs": [],
   "source": []
  }
 ],
 "metadata": {
  "kernelspec": {
   "display_name": "Python 3",
   "language": "python",
   "name": "python3"
  },
  "language_info": {
   "codemirror_mode": {
    "name": "ipython",
    "version": 3
   },
   "file_extension": ".py",
   "mimetype": "text/x-python",
   "name": "python",
   "nbconvert_exporter": "python",
   "pygments_lexer": "ipython3",
   "version": "3.7.6"
  }
 },
 "nbformat": 4,
 "nbformat_minor": 4
}
